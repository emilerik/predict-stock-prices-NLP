{
 "cells": [
  {
   "cell_type": "markdown",
   "id": "b9371dee",
   "metadata": {},
   "source": [
    "# Text mining project - SEC 8-K for Stock Price Forecasting\n",
    "\n",
    "## Import & preprocessing"
   ]
  },
  {
   "cell_type": "code",
   "execution_count": 85,
   "id": "88ca63ca",
   "metadata": {},
   "outputs": [],
   "source": [
    "# Disable jedi to make autocompletion much faster\n",
    "%config Completer.use_jedi = False\n",
    "import warnings\n",
    "warnings.filterwarnings('ignore')"
   ]
  },
  {
   "cell_type": "markdown",
   "id": "7cb5e7c6",
   "metadata": {},
   "source": [
    "First, we import the data, which comes with adjusted ppc (price percent change) into a dataframe"
   ]
  },
  {
   "cell_type": "code",
   "execution_count": 1,
   "id": "aeb32786",
   "metadata": {},
   "outputs": [
    {
     "data": {
      "text/html": [
       "<div>\n",
       "<style scoped>\n",
       "    .dataframe tbody tr th:only-of-type {\n",
       "        vertical-align: middle;\n",
       "    }\n",
       "\n",
       "    .dataframe tbody tr th {\n",
       "        vertical-align: top;\n",
       "    }\n",
       "\n",
       "    .dataframe thead th {\n",
       "        text-align: right;\n",
       "    }\n",
       "</style>\n",
       "<table border=\"1\" class=\"dataframe\">\n",
       "  <thead>\n",
       "    <tr style=\"text-align: right;\">\n",
       "      <th></th>\n",
       "      <th>ticker</th>\n",
       "      <th>sec_filing_date</th>\n",
       "      <th>text</th>\n",
       "      <th>target_day1open_day1close_ppc</th>\n",
       "      <th>target_day1open_day2close_ppc</th>\n",
       "      <th>target_day1open_day3close_ppc</th>\n",
       "      <th>target_dayneg1close_day1open_ppc</th>\n",
       "    </tr>\n",
       "  </thead>\n",
       "  <tbody>\n",
       "    <tr>\n",
       "      <th>0</th>\n",
       "      <td>AIT</td>\n",
       "      <td>2017-01-13 00:00:00</td>\n",
       "      <td>0000109563-17-000018.txt : 20170113 0000109563...</td>\n",
       "      <td>-0.007612</td>\n",
       "      <td>0.011033</td>\n",
       "      <td>0.012198</td>\n",
       "      <td>0.006320</td>\n",
       "    </tr>\n",
       "    <tr>\n",
       "      <th>1</th>\n",
       "      <td>AIT</td>\n",
       "      <td>2017-01-26 00:00:00</td>\n",
       "      <td>0000109563-17-000036.txt : 20170126 0000109563...</td>\n",
       "      <td>-0.026110</td>\n",
       "      <td>-0.035664</td>\n",
       "      <td>-0.051111</td>\n",
       "      <td>0.000495</td>\n",
       "    </tr>\n",
       "    <tr>\n",
       "      <th>2</th>\n",
       "      <td>AIT</td>\n",
       "      <td>2017-03-02 00:00:00</td>\n",
       "      <td>0000109563-17-000062.txt : 20170302 0000109563...</td>\n",
       "      <td>-0.003292</td>\n",
       "      <td>-0.005536</td>\n",
       "      <td>-0.008944</td>\n",
       "      <td>-0.013831</td>\n",
       "    </tr>\n",
       "    <tr>\n",
       "      <th>3</th>\n",
       "      <td>AIT</td>\n",
       "      <td>2017-04-27 00:00:00</td>\n",
       "      <td>0000109563-17-000074.txt : 20170427 0000109563...</td>\n",
       "      <td>-0.042239</td>\n",
       "      <td>-0.047690</td>\n",
       "      <td>-0.039190</td>\n",
       "      <td>0.044192</td>\n",
       "    </tr>\n",
       "    <tr>\n",
       "      <th>4</th>\n",
       "      <td>AIT</td>\n",
       "      <td>2017-05-15 00:00:00</td>\n",
       "      <td>0000109563-17-000080.txt : 20170515 0000109563...</td>\n",
       "      <td>-0.005644</td>\n",
       "      <td>-0.024592</td>\n",
       "      <td>-0.021755</td>\n",
       "      <td>0.003241</td>\n",
       "    </tr>\n",
       "  </tbody>\n",
       "</table>\n",
       "</div>"
      ],
      "text/plain": [
       "  ticker      sec_filing_date  \\\n",
       "0    AIT  2017-01-13 00:00:00   \n",
       "1    AIT  2017-01-26 00:00:00   \n",
       "2    AIT  2017-03-02 00:00:00   \n",
       "3    AIT  2017-04-27 00:00:00   \n",
       "4    AIT  2017-05-15 00:00:00   \n",
       "\n",
       "                                                text  \\\n",
       "0  0000109563-17-000018.txt : 20170113 0000109563...   \n",
       "1  0000109563-17-000036.txt : 20170126 0000109563...   \n",
       "2  0000109563-17-000062.txt : 20170302 0000109563...   \n",
       "3  0000109563-17-000074.txt : 20170427 0000109563...   \n",
       "4  0000109563-17-000080.txt : 20170515 0000109563...   \n",
       "\n",
       "   target_day1open_day1close_ppc  target_day1open_day2close_ppc  \\\n",
       "0                      -0.007612                       0.011033   \n",
       "1                      -0.026110                      -0.035664   \n",
       "2                      -0.003292                      -0.005536   \n",
       "3                      -0.042239                      -0.047690   \n",
       "4                      -0.005644                      -0.024592   \n",
       "\n",
       "   target_day1open_day3close_ppc  target_dayneg1close_day1open_ppc  \n",
       "0                       0.012198                          0.006320  \n",
       "1                      -0.051111                          0.000495  \n",
       "2                      -0.008944                         -0.013831  \n",
       "3                      -0.039190                          0.044192  \n",
       "4                      -0.021755                          0.003241  "
      ]
     },
     "execution_count": 1,
     "metadata": {},
     "output_type": "execute_result"
    }
   ],
   "source": [
    "import pandas as pd\n",
    "import numpy as np\n",
    "# Stock price history\n",
    "alpha_df = pd.read_csv('./data/alphavantage.csv')\n",
    "# S&P500 history\n",
    "sp500_df = pd.read_csv('./data/sp500_hist.csv')\n",
    "# SEC 8-K forms\n",
    "sec8_series = pd.read_json(\"./data/preprocessed_sec8_filings.json\")['data']\n",
    "sec8_df_raw = pd.DataFrame(sec8_series.sum())\n",
    "sec8_df_raw = sec8_df_raw.dropna().reset_index()\n",
    "sec8_df = sec8_df_raw.copy()\n",
    "sec8_df.drop([\"index\", \"cik\"], axis=1, inplace=True)\n",
    "sec8_df.head()"
   ]
  },
  {
   "cell_type": "markdown",
   "id": "54764bd4",
   "metadata": {},
   "source": [
    "## Baseline features: yesterday's performance\n",
    "We add yesterday's performance as a feature to calculate a baseline."
   ]
  },
  {
   "cell_type": "code",
   "execution_count": 2,
   "id": "dd240b82",
   "metadata": {},
   "outputs": [
    {
     "name": "stdout",
     "output_type": "stream",
     "text": [
      "CPU times: user 5min 37s, sys: 1min 47s, total: 7min 25s\n",
      "Wall time: 7min 26s\n"
     ]
    }
   ],
   "source": [
    "%%time\n",
    "sp500_df.Datum = pd.to_datetime(sp500_df.Datum)\n",
    "sp500_df = sp500_df.sort_values(\"Datum\")\n",
    "sp500_df.columns = [\"date\", \"close\", \"volume\", \"open\", \"high\", \"low\"]\n",
    "\n",
    "# Go through each ticker and date for the filings, and calculate the adjusted ppc from the day before the filing\n",
    "# If no data exists the day before, take the latest day\n",
    "sec8_df['feature_ppc_dayneg1'] = np.nan\n",
    "alpha_df.date = alpha_df.date.apply(pd.to_datetime)\n",
    "\n",
    "for index, row in sec8_df.iterrows():\n",
    "    ticker, date = row['ticker'], row['sec_filing_date']\n",
    "    date = pd.to_datetime(date)\n",
    "    # print(ticker, date)\n",
    "    # Select rows where date is the day before filing\n",
    "    sp500_neg1 = sp500_df[sp500_df.date < date].tail(1)\n",
    "    alpha_neg1 = alpha_df[alpha_df.date < date].tail(1)\n",
    "    # Only calculate ppc if dates exist on both dfs\n",
    "    if sp500_neg1.date.iloc[0] == alpha_neg1.date.iloc[0]:\n",
    "        sp500_ppc = (sp500_neg1.close.iloc[0]-sp500_neg1.open.iloc[0])/sp500_neg1.open.iloc[0]\n",
    "        alpha_ppc = (alpha_neg1.close.iloc[0]-alpha_neg1.open.iloc[0])/alpha_neg1.open.iloc[0]\n",
    "        ppc = alpha_ppc - sp500_ppc\n",
    "        sec8_df.loc[(sec8_df.sec_filing_date == str(date)) & (sec8_df.ticker == ticker), 'feature_ppc_dayneg1'] = ppc"
   ]
  },
  {
   "cell_type": "markdown",
   "id": "ad8fc9a0",
   "metadata": {},
   "source": [
    "Some of the texts in the data are corrupt or invalid, for example because they weren't properly fetched from the website since the request was rejected, or because they don't contain the events we are looking for. Such is the case with documents with financial tables. We remove all invalid documents. See `helper_functions.py` for functionality."
   ]
  },
  {
   "cell_type": "code",
   "execution_count": 3,
   "id": "5b7048e1",
   "metadata": {},
   "outputs": [
    {
     "name": "stdout",
     "output_type": "stream",
     "text": [
      "Removed 360 invalid documents\n"
     ]
    }
   ],
   "source": [
    "%run helper_functions.py\n",
    "\n",
    "invalid_docs = get_invalid_documents(sec8_df)\n",
    "sec8_df.drop(invalid_docs, inplace=True)\n",
    "sec8_df = sec8_df.dropna().reset_index()\n",
    "print(f\"Removed {len(invalid_docs)} invalid documents\")"
   ]
  },
  {
   "cell_type": "markdown",
   "id": "3743852b",
   "metadata": {},
   "source": [
    "**Cleaning**\n",
    "\n",
    "Let's take a look at a filing:"
   ]
  },
  {
   "cell_type": "code",
   "execution_count": 5,
   "id": "5439c1da",
   "metadata": {
    "scrolled": true
   },
   "outputs": [
    {
     "data": {
      "text/plain": [
       "\"0000109563-17-000018.txt : 20170113 0000109563-17-000018.hdr.sgml : 20170113 20170113081754 ACCESSION NUMBER: 0000109563-17-000018 CONFORMED SUBMISSION TYPE: 8-K PUBLIC DOCUMENT COUNT: 1 CONFORMED PERIOD OF REPORT: 20170110 ITEM INFORMATION: Departure of Directors or Certain Officers; Election of Directors; Appointment of Certain Officers: Compensatory Arrangements of Certain Officers FILED AS OF DATE: 20170113 DATE AS OF CHANGE: 20170113 FILER: COMPANY DATA: COMPANY CONFORMED NAME: APPLIED INDUSTRIAL TECHNOLOGIES INC CENTRAL INDEX KEY: 0000109563 STANDARD INDUSTRIAL CLASSIFICATION: WHOLESALE-MACHINERY, EQUIPMENT & SUPPLIES [5080] IRS NUMBER: 340117420 STATE OF INCORPORATION: OH FISCAL YEAR END: 0630 FILING VALUES: FORM TYPE: 8-K SEC ACT: 1934 Act SEC FILE NUMBER: 001-02299 FILM NUMBER: 17526527 BUSINESS ADDRESS: STREET 1: ONE APPLIED PLAZA CITY: CLEVELAND STATE: OH ZIP: 44115-5056 BUSINESS PHONE: 216-426-4753 MAIL ADDRESS: STREET 1: ONE APPLIED PLAZA CITY: CLEVELAND STATE: OH ZIP: 44115-5056 FORMER COMPANY: FORMER CONFORMED NAME: BEARINGS INC /OH/ DATE OF NAME CHANGE: 19920703 FORMER COMPANY: FORMER CONFORMED NAME: BROWN JIM STORES INC DATE OF NAME CHANGE: 19600201 8-K 1 a8k11017meier.htm 8-K Document UNITED STATES SECURITIES AND EXCHANGE COMMISSION Washington, D.C. 20549 FORM 8-K CURRENT REPORT PURSUANT TO SECTION 13 OR 15(d) OF THE SECURITIES EXCHANGE ACT OF 1934 Date of Report (Date of earliest event reported): January 10, 2017 APPLIED INDUSTRIAL TECHNOLOGIES, INC. (Exact name of registrant as specified in its charter) OHIO 1-2299 34-0117420 (State or other jurisdiction of (Commission File (I.R.S. Employer incorporation or organization) Number) Identification No.) One Applied Plaza, Cleveland, Ohio 44115 (Address of Principal Executive Officers) (Zip Code) Registrant's Telephone Number, Including Area Code: (216) 426-4000 Check the appropriate box below if the Form 8-K filing is intended to simultaneously satisfy the filing obligation of the registrant under any of the following provisions (see General Instruction A.2. below): r Written communications pursuant to Rule 425 under the Securities Act (17 CFR 230.425) r Soliciting material pursuant to Rule 14a-12 under the Exchange Act (17 CFR 240.14a-12) r Pre-commencement communications pursuant to Rule 14d-2(b) under the Exchange Act (17 CFR 240.14d-2(b)) r Pre-commencement communications pursuant to Rule 13e-4(c) under the Exchange Act (17 CFR 240.13e-4(c)) ITEM 5.02 DEPARTURE OF DIRECTORS OR CERTAIN OFFICERS; ELECTION OF DIRECTORS; APPOINTMENT OF CERTAIN OFFICERS; COMPENSATORY ARRANGEMENTS OF CERTAIN OFFICERS. John F. Meier, a director of Applied Industrial Technologies, Inc. (“Applied”) since 2005, age 69, retired from the Board of Directors on January 10, 2017. Mr. Meier’s retirement was for personal reasons and did not result from any disagreement with Applied. SIGNATURE Pursuant to the requirements of the Securities Exchange Act of 1934, the registrant has duly caused this report to be signed on its behalf by the undersigned, thereunto duly authorized. APPLIED INDUSTRIAL TECHNOLOGIES, INC. (Registrant) By: /s/ Fred D. Bauer Fred D. Bauer, Vice President-General Counsel & Secretary Date: January 13, 2017\""
      ]
     },
     "execution_count": 5,
     "metadata": {},
     "output_type": "execute_result"
    }
   ],
   "source": [
    "sec8_df['text'][0]"
   ]
  },
  {
   "cell_type": "markdown",
   "id": "5c8bc300",
   "metadata": {},
   "source": [
    "---\n",
    "The only information from this filing is actually the text `John F. Meier, a director of Applied Industrial Technologies, Inc. (“Applied”) since 2005, age 69, retired from the Board of Directors on January 10, 2017. Mr. Meier’s retirement was for personal reasons and did not result from any disagreement with Applied.`\n",
    "\n",
    "In other words, large parts of the documents we don't care about. We extract only the information from the texts with some regex magic:"
   ]
  },
  {
   "cell_type": "code",
   "execution_count": 6,
   "id": "cb7bb03d",
   "metadata": {},
   "outputs": [
    {
     "name": "stdout",
     "output_type": "stream",
     "text": [
      "CPU times: user 37.4 s, sys: 183 ms, total: 37.5 s\n",
      "Wall time: 37.7 s\n"
     ]
    },
    {
     "data": {
      "text/plain": [
       "'DEPARTURE OF DIRECTORS OR CERTAIN OFFICERS; ELECTION OF DIRECTORS; APPOINTMENT OF CERTAIN OFFICERS; COMPENSATORY ARRANGEMENTS OF CERTAIN OFFICERS. John F. Meier, a director of Applied Industrial Technologies, Inc. (“Applied”) since 2005, age 69, retired from the Board of Directors on January 10, 2017. Mr. Meier’s retirement was for personal reasons and did not result from any disagreement with Applied.'"
      ]
     },
     "execution_count": 6,
     "metadata": {},
     "output_type": "execute_result"
    }
   ],
   "source": [
    "%%time\n",
    "sec8_df['text'] = sec8_df['text'].apply(extract_8k)\n",
    "sec8_df['text'][0]"
   ]
  },
  {
   "cell_type": "markdown",
   "id": "f250792c",
   "metadata": {},
   "source": [
    "We managed to extract only the relevant part of the text."
   ]
  },
  {
   "cell_type": "markdown",
   "id": "ba86e50d",
   "metadata": {},
   "source": [
    "The distribution of number of words in the corpus is as follows:"
   ]
  },
  {
   "cell_type": "code",
   "execution_count": 357,
   "id": "8c8ca1c0",
   "metadata": {},
   "outputs": [
    {
     "data": {
      "image/png": "[encoded data removed]",
      "text/plain": [
       "<Figure size 432x288 with 1 Axes>"
      ]
     },
     "metadata": {
      "needs_background": "light"
     },
     "output_type": "display_data"
    }
   ],
   "source": [
    "lengths = []\n",
    "for j in range(len(sec8_df)):\n",
    "    lengths.append(len(sec8_df['text'][j].split()))\n",
    "lengths = np.array(lengths)\n",
    "\n",
    "import matplotlib.pyplot as plt\n",
    "_ = plt.hist(lengths, bins=100)  # arguments are passed to np.histogram\n",
    "plt.xlim([0, 2000])\n",
    "plt.xlabel(\"Number of words\")\n",
    "plt.ylabel(\"Number of documents\")\n",
    "plt.show()"
   ]
  },
  {
   "cell_type": "markdown",
   "id": "ecc8ef96",
   "metadata": {},
   "source": [
    "Let's clean up the text a bit - we lemmatize, remove numeric values, and remove any 1 letter words.\n",
    "Also, we assume that the most important text is in the beginning, so we truncate each text to 500 words."
   ]
  },
  {
   "cell_type": "code",
   "execution_count": 7,
   "id": "4b6cc6a3",
   "metadata": {},
   "outputs": [],
   "source": [
    "import spacy\n",
    "nlp = spacy.load('en_core_web_lg', disable='parser')\n",
    "MAX_SEQ_LEN = 500\n",
    "\n",
    "def preprocess(text):\n",
    "    if len(text.split()) > MAX_SEQ_LEN*2:\n",
    "        text = ' '.join(text.split()[:MAX_SEQ_LEN*2])\n",
    "    processed = [token.lemma_ for token in nlp(text) if token.lemma_.isalpha() and len(token.lemma_) > 1]\n",
    "    if len(processed) > MAX_SEQ_LEN:\n",
    "        return ' '.join(processed[:MAX_SEQ_LEN])\n",
    "    return ' '.join(processed)"
   ]
  },
  {
   "cell_type": "markdown",
   "id": "8626458f",
   "metadata": {},
   "source": [
    "Preprocess all data by using our preprocessing function on the text, as well as converting numerical targets to {\"UP\", \"DOWN\"}:"
   ]
  },
  {
   "cell_type": "code",
   "execution_count": 7,
   "id": "2d52fcd4",
   "metadata": {},
   "outputs": [
    {
     "name": "stdout",
     "output_type": "stream",
     "text": [
      "CPU times: user 271 ms, sys: 40 ms, total: 311 ms\n",
      "Wall time: 320 ms\n"
     ]
    }
   ],
   "source": [
    "%%time\n",
    "label_dict = {\n",
    "    \"DOWN\": 0,\n",
    "    \"UP\": 1\n",
    "}\n",
    "def conv_col_to_cat(df, col):\n",
    "    # Converts a column in dataframe with numerical targets to categorical\n",
    "    df_new = df.copy()\n",
    "    df_new.loc[df[col] > 0, col] = label_dict[\"UP\"]\n",
    "    df_new.loc[df[col] <= 0, col] = label_dict[\"DOWN\"]\n",
    "    df_new[col] = df_new[col].astype(int)\n",
    "    return df_new\n",
    "\n",
    "\n",
    "load_from_file = True\n",
    "\n",
    "if load_from_file:\n",
    "    sec8_df = pd.read_csv(\"data/processed_df.csv\")\n",
    "    sec8_df = sec8_df.drop(columns = list(sec8_df.columns[:2]))\n",
    "    sec8_df = sec8_df.dropna().reset_index(drop=True)\n",
    "else:\n",
    "    sec8_df['text'] = sec8_df['text'].apply(preprocess)\n",
    "    sec8_df = conv_col_to_cat(sec8_df, 'target_day1open_day1close_ppc')\n",
    "    sec8_df = conv_col_to_cat(sec8_df, 'target_day1open_day2close_ppc')\n",
    "    sec8_df = conv_col_to_cat(sec8_df, 'target_day1open_day3close_ppc')\n",
    "    sec8_df = conv_col_to_cat(sec8_df, 'target_dayneg1close_day1open_ppc')\n",
    "    sec8_df = conv_col_to_cat(sec8_df, 'feature_ppc_dayneg1')\n",
    "    sec8_df.to_csv(\"data/processed_df.csv\")"
   ]
  },
  {
   "cell_type": "code",
   "execution_count": 10,
   "id": "9f727d42",
   "metadata": {},
   "outputs": [
    {
     "data": {
      "text/plain": [
       "'departure of director or certain officer election of director appointment of certain officer compensatory arrangement of certain officer John Meier director of Applied Industrial Technologies Applied since age retire from the Board of Directors on January Meier retirement be for personal reason and do not result from any disagreement with Applied'"
      ]
     },
     "execution_count": 10,
     "metadata": {},
     "output_type": "execute_result"
    }
   ],
   "source": [
    "sec8_df.loc[0, 'text']"
   ]
  },
  {
   "cell_type": "markdown",
   "id": "cd405255",
   "metadata": {},
   "source": [
    "## Train/val/test split"
   ]
  },
  {
   "cell_type": "code",
   "execution_count": 34,
   "id": "3590e1d1",
   "metadata": {},
   "outputs": [
    {
     "name": "stdout",
     "output_type": "stream",
     "text": [
      "9836 filings and 3548939 words in training set\n",
      "4239 filings and 1632374 words in validation set\n",
      "3877 filing and 1573690 words in test set\n",
      "Average filing word count: 376\n"
     ]
    }
   ],
   "source": [
    "from pandas import to_datetime as to_dt\n",
    "\n",
    "# Train/val/test split\n",
    "dates = to_dt(sec8_df['sec_filing_date'])\n",
    "\n",
    "train_idx = sec8_df.loc[dates <= to_dt(\"2019-06-01\")].index\n",
    "val_idx = sec8_df.loc[(dates > to_dt(\"2019-06-01\")) & (dates <= to_dt(\"2020-06-01\"))].index\n",
    "test_idx = sec8_df.loc[(dates > to_dt(\"2020-06-01\"))].index\n",
    "\n",
    "# Print statistics in data\n",
    "n_words_train = sum([len(text.split()) for text in sec8_df.loc[train_idx, 'text']])\n",
    "n_words_val = sum([len(text.split()) for text in sec8_df.loc[val_idx, 'text']])\n",
    "n_words_test = sum([len(text.split()) for text in sec8_df.loc[test_idx, 'text']])\n",
    "print(f\"{len(train_idx)} filings and {n_words_train} words in training set\")\n",
    "print(f\"{len(val_idx)} filings and {n_words_val} words in validation set\")\n",
    "print(f\"{len(test_idx)} filing and {n_words_test} words in test set\")\n",
    "print(f\"Average filing word count: {round((n_words_train + n_words_val + n_words_test)/(len(train_idx)+len(val_idx)+len(test_idx)))}\")"
   ]
  },
  {
   "cell_type": "markdown",
   "id": "af4151c8",
   "metadata": {},
   "source": [
    "## Feature extraction"
   ]
  },
  {
   "cell_type": "markdown",
   "id": "d701c600",
   "metadata": {},
   "source": [
    "Time to extract features: we start by converting texts to sequences of integer, then zero-padding to the same length."
   ]
  },
  {
   "cell_type": "code",
   "execution_count": 116,
   "id": "bee71a2d",
   "metadata": {},
   "outputs": [],
   "source": [
    "from tensorflow.keras.preprocessing.text import Tokenizer\n",
    "from tensorflow.keras.preprocessing.sequence import pad_sequences\n",
    "X = sec8_df['text']\n",
    "X_bl = sec8_df['feature_ppc_dayneg1'] # Feature for baseline \n",
    "y = sec8_df.loc[:, ['target_day1open_day1close_ppc', \n",
    "                'target_day1open_day2close_ppc', \n",
    "                'target_day1open_day3close_ppc', \n",
    "                'target_dayneg1close_day1open_ppc']]\n",
    "y.columns = ['n0', 'n1', 'n2', 'n3']\n",
    "y_train = y.iloc[train_idx]\n",
    "y_val = y.iloc[val_idx]\n",
    "y_test = y.iloc[test_idx]\n",
    "\n",
    "tokenizer = Tokenizer()\n",
    "# Fit tokenizer to training texts\n",
    "tokenizer.fit_on_texts(X.iloc[train_idx])\n",
    "\n",
    "word_index = tokenizer.word_index\n",
    "VOCAB_SIZE = len(tokenizer.word_index)\n",
    "\n",
    "# Convert texts to index sequences\n",
    "X_train = tokenizer.texts_to_sequences(X.iloc[train_idx])\n",
    "X_val = tokenizer.texts_to_sequences(X.iloc[val_idx])\n",
    "X_test = tokenizer.texts_to_sequences(X.iloc[test_idx])\n",
    "# Pad the sequences\n",
    "MAX_SEQ_LEN = 500\n",
    "X_train = pad_sequences(X_train, maxlen=MAX_SEQ_LEN, padding=\"post\", truncating=\"post\")\n",
    "X_val = pad_sequences(X_val, maxlen=MAX_SEQ_LEN, padding=\"post\", truncating=\"post\")\n",
    "X_test = pad_sequences(X_test, maxlen=MAX_SEQ_LEN, padding=\"post\", truncating=\"post\")\n",
    "\n",
    "inverse_word_index = {word_index[key]: key for key in word_index.keys()}\n",
    "inverse_word_index[0] = \"<>\""
   ]
  },
  {
   "cell_type": "markdown",
   "id": "31ccab1b",
   "metadata": {},
   "source": [
    "Let's see what we have to work with:"
   ]
  },
  {
   "cell_type": "code",
   "execution_count": 35,
   "id": "bbfe7b9d",
   "metadata": {},
   "outputs": [
    {
     "name": "stdout",
     "output_type": "stream",
     "text": [
      "(9836, 500)\n",
      "(9836, 4)\n"
     ]
    }
   ],
   "source": [
    "print(X_train.shape)\n",
    "print(y.iloc[train_idx].shape)"
   ]
  },
  {
   "cell_type": "markdown",
   "id": "78c1917a",
   "metadata": {},
   "source": [
    "So our input features are all of dimension 500 and we have 4 target variables.\n",
    "\n",
    "## Class distribution:"
   ]
  },
  {
   "cell_type": "code",
   "execution_count": 395,
   "id": "0c9f4a72",
   "metadata": {},
   "outputs": [
    {
     "data": {
      "image/png": "[encoded data removed]",
      "text/plain": [
       "<Figure size 720x360 with 1 Axes>"
      ]
     },
     "metadata": {
      "needs_background": "light"
     },
     "output_type": "display_data"
    }
   ],
   "source": [
    "import seaborn as sns\n",
    "import matplotlib.pyplot as plt\n",
    "\n",
    "#plot class distribution\n",
    "plt.figure(figsize=(10, 5))\n",
    "sns.countplot(y.n0, palette='Spectral')\n",
    "plt.xlabel('Classes')\n",
    "plt.xticks([label_dict[\"DOWN\"],label_dict[\"UP\"]], [\"DOWN\", \"UP\"])\n",
    "plt.title('Class Distribution');"
   ]
  },
  {
   "cell_type": "markdown",
   "id": "38810322",
   "metadata": {},
   "source": [
    "## Baseline performance\n",
    "As a simple baseline, we use the price percent change for the previous day of the sec filing day from open to close, in addition to a random and majority classifier"
   ]
  },
  {
   "cell_type": "code",
   "execution_count": 469,
   "id": "75e8df99",
   "metadata": {},
   "outputs": [
    {
     "name": "stdout",
     "output_type": "stream",
     "text": [
      "Majority classifier:  {'n0': 0.5424297136961568, 'n1': 0.5406241939644054, 'n2': 0.5331441836471499, 'n3': 0.5318545266958989}\n",
      "Uniform random classifier: {'n0': 0.501418622646376, 'n1': 0.49935517152437453, 'n2': 0.502708279597627, 'n3': 0.4988393087438741}\n",
      "Baseline classifier: {'n0': 0.4978075831828734, 'n1': 0.49703378901212275, 'n2': 0.5143151921588858, 'n3': 0.5127676038173846}\n"
     ]
    }
   ],
   "source": [
    "from sklearn.dummy import DummyClassifier\n",
    "from sklearn.metrics import accuracy_score\n",
    "\n",
    "\n",
    "model_majority = DummyClassifier(strategy=\"prior\")\n",
    "model_uni = DummyClassifier(strategy=\"uniform\")\n",
    "acc_majority = {}\n",
    "acc_uni = {}\n",
    "acc_bl = {}\n",
    "for day in [\"n0\", \"n1\", \"n2\", \"n3\"]:    \n",
    "    model_majority.fit(X_train, y_train[day])\n",
    "    model_uni.fit(X_train, y_train[day])\n",
    "    y_pred_majority = model_majority.predict(X_test)\n",
    "    y_pred_uni = model_uni.predict(X_test)\n",
    "    acc_majority[day] = accuracy_score(y_test[day], y_pred_majority)\n",
    "    acc_uni[day] = accuracy_score(y_test[day], y_pred_uni)\n",
    "    acc_bl[day] = accuracy_score(y_test[day], X_bl.iloc[test_idx])\n",
    "\n",
    "print(\"Majority classifier: \", acc_majority)\n",
    "print(\"Uniform random classifier:\", acc_uni)\n",
    "print(\"Baseline classifier:\", acc_bl)"
   ]
  },
  {
   "cell_type": "markdown",
   "id": "e3351568",
   "metadata": {},
   "source": [
    "## Pretraining the embedding layer\n",
    "\n",
    "In our model, we use an embedding layer as the first layer, both in order to reduce the dimension of our vocabulary, and to give meaningful vector representations of our words (compared to using unique integers or one-hot encoding). What we mean by \"meaningful\" in this context is that if there is some relationship between words, this should be reflected in the vectors in space. For example, two vectors embedding similar words could be nearby in space.\n",
    "\n",
    "We will use the GloVe word embeddings, to avoid having to train the weights of the embedding layer ourselves and hopefully achieve better performance."
   ]
  },
  {
   "cell_type": "code",
   "execution_count": 811,
   "id": "8b762001",
   "metadata": {},
   "outputs": [
    {
     "name": "stdout",
     "output_type": "stream",
     "text": [
      "Found 1917494 word vectors.\n",
      "CPU times: user 2min 12s, sys: 5.49 s, total: 2min 17s\n",
      "Wall time: 2min 21s\n"
     ]
    },
    {
     "data": {
      "text/plain": [
       "1059"
      ]
     },
     "execution_count": 811,
     "metadata": {},
     "output_type": "execute_result"
    }
   ],
   "source": [
    "%%time\n",
    "import os\n",
    "# Pretrain the embedding layer using GloVe\n",
    "# Code for building embedding matrix from https://blog.keras.io/using-pre-trained-word-embeddings-in-a-keras-model.html\n",
    "GLOVE_DIR = './data/glove.6B'\n",
    "embeddings_index = {}\n",
    "f = open(os.path.join(GLOVE_DIR, 'glove.42B.300d.txt'))\n",
    "for line in f:\n",
    "    values = line.split()\n",
    "    word = values[0]\n",
    "    coefs = np.asarray(values[1:], dtype='float32')\n",
    "    embeddings_index[word] = coefs\n",
    "f.close()\n",
    "\n",
    "print('Found %s word vectors.' % len(embeddings_index))\n",
    "\n",
    "EMBEDDING_DIM = 300\n",
    "embedding_matrix = np.zeros((len(tokenizer.word_index) + 1, EMBEDDING_DIM))\n",
    "oov_list = []\n",
    "\n",
    "for word, i in tokenizer.word_index.items():\n",
    "    embedding_vector = embeddings_index.get(word)\n",
    "    if embedding_vector is not None:\n",
    "        # words not found in embedding index will be all-zeros.\n",
    "        embedding_matrix[i] = embedding_vector\n",
    "    else:\n",
    "        oov_list.append(word)\n",
    "        \n",
    "len(oov_list)"
   ]
  },
  {
   "cell_type": "markdown",
   "id": "d20659a6",
   "metadata": {},
   "source": [
    "Words in the filings that are out-of-vocabulary, i.e. not in GloVe are printed below. \n",
    "\n",
    "(From a quick inspection, these do not seem important for the classification task anyway!)"
   ]
  },
  {
   "cell_type": "code",
   "execution_count": 831,
   "id": "01af1f1c",
   "metadata": {},
   "outputs": [
    {
     "data": {
      "text/plain": [
       "['mplx',\n",
       " 'calatlantic',\n",
       " 'exhibitsfinancial',\n",
       " 'counterpartie',\n",
       " 'fncb',\n",
       " 'apeg',\n",
       " 'inbelow',\n",
       " 'homebuilde',\n",
       " 'wectec',\n",
       " 'prsus',\n",
       " 'vodafoneziggo',\n",
       " 'bbld',\n",
       " 'tcja',\n",
       " 'essendant',\n",
       " 'mmbtud',\n",
       " 'upcic',\n",
       " 'tegsa',\n",
       " 'redwitz',\n",
       " 'bvbc',\n",
       " 'kreiz',\n",
       " 'pharmedium',\n",
       " 'lexpe',\n",
       " 'fblb',\n",
       " 'spartannash',\n",
       " 'zenium',\n",
       " 'zinsner',\n",
       " 'hantson',\n",
       " 'jotec',\n",
       " 'underbelow',\n",
       " 'norbe']"
      ]
     },
     "execution_count": 831,
     "metadata": {},
     "output_type": "execute_result"
    }
   ],
   "source": [
    "oov_list[:30]"
   ]
  },
  {
   "cell_type": "markdown",
   "id": "50ea31fc",
   "metadata": {},
   "source": [
    "## Creating the neural network\n",
    "Let's create the deep neural network model which uses as the first layer the embedding layer we just created"
   ]
  },
  {
   "cell_type": "code",
   "execution_count": 936,
   "id": "eb7fc0e7",
   "metadata": {
    "scrolled": true
   },
   "outputs": [
    {
     "name": "stdout",
     "output_type": "stream",
     "text": [
      "Model: \"sequential_7\"\n",
      "_________________________________________________________________\n",
      " Layer (type)                Output Shape              Param #   \n",
      "=================================================================\n",
      " embedding_7 (Embedding)     (None, 500, 300)          5251200   \n",
      "                                                                 \n",
      " bidirectional_7 (Bidirectio  (None, 128)              186880    \n",
      " nal)                                                            \n",
      "                                                                 \n",
      " dense_14 (Dense)            (None, 64)                8256      \n",
      "                                                                 \n",
      " dense_15 (Dense)            (None, 1)                 65        \n",
      "                                                                 \n",
      "=================================================================\n",
      "Total params: 5,446,401\n",
      "Trainable params: 195,201\n",
      "Non-trainable params: 5,251,200\n",
      "_________________________________________________________________\n",
      "None\n"
     ]
    }
   ],
   "source": [
    "from tensorflow import keras\n",
    "from tensorflow.keras import layers\n",
    "from tensorflow.keras.layers import *\n",
    "import keras_tuner as kt\n",
    "\n",
    "def create_nn_model(lstm_units=64, dense_units=64, dropout=0.3):\n",
    "    model = keras.models.Sequential()\n",
    "    embedding_layer = layers.Embedding(input_dim=VOCAB_SIZE+1, \n",
    "                               output_dim=EMBEDDING_DIM, \n",
    "                               input_length=MAX_SEQ_LEN,\n",
    "                               weights=[embedding_matrix],\n",
    "                               mask_zero=True,\n",
    "                               trainable=False) ## J*MFÖRA MED MED!!\n",
    "    model.add(embedding_layer)\n",
    "    model.add(Bidirectional(LSTM(units=lstm_units, dropout=dropout, recurrent_dropout=0.3)))\n",
    "    model.add(layers.Dense(units=dense_units, activation='relu'))\n",
    "    model.add(layers.Dense(1, activation=\"sigmoid\"))\n",
    "    return model\n",
    "\n",
    "print(create_nn_model().summary())\n",
    "\n",
    "# define the grid search parameters\n",
    "def build_gridsearch_model(hp):\n",
    "    dropout = hp.Choice(\"dropout\", [0.2, 0.5, 0.7])\n",
    "    lstm_units = hp.Choice(\"lstm_units\", [32, 64, 128])\n",
    "    dense_units = hp.Choice(\"dense_units\", [32, 64, 128])\n",
    "    model = create_nn_model(lstm_units, dense_units, dropout)\n",
    "    model.compile(loss='binary_crossentropy', optimizer='adam', metrics=['accuracy'])\n",
    "    return model\n",
    "\n",
    "# create the tuner which will be used to search over the grid of parameters\n",
    "tuner = kt.RandomSearch(\n",
    "    hypermodel=build_gridsearch_model,\n",
    "    objective=\"val_accuracy\",\n",
    "    max_trials=10,\n",
    "    overwrite=True,\n",
    "    directory=\"tuning\",\n",
    "    project_name=\"sec8tuning\",\n",
    ")\n"
   ]
  },
  {
   "cell_type": "code",
   "execution_count": 937,
   "id": "4c7d7bac",
   "metadata": {},
   "outputs": [
    {
     "name": "stdout",
     "output_type": "stream",
     "text": [
      "Trial 10 Complete [00h 44m 15s]\n",
      "val_accuracy: 0.5133286118507385\n",
      "\n",
      "Best val_accuracy So Far: 0.522292971611023\n",
      "Total elapsed time: 11h 16m 15s\n",
      "INFO:tensorflow:Oracle triggered exit\n",
      "CPU times: user 1d 17h 2min 46s, sys: 1d 8min 10s, total: 2d 17h 10min 56s\n",
      "Wall time: 11h 16min 15s\n"
     ]
    }
   ],
   "source": [
    "%%time\n",
    "\n",
    "# Search for the best parameters\n",
    "tuner.search(X_train, y_train.n0, epochs=10, validation_data=(X_val, y_val.n0))"
   ]
  },
  {
   "cell_type": "code",
   "execution_count": 938,
   "id": "fca9cb63",
   "metadata": {},
   "outputs": [
    {
     "name": "stdout",
     "output_type": "stream",
     "text": [
      "Epoch 1/10\n",
      "308/308 [==============================] - 321s 1s/step - loss: 0.6961 - accuracy: 0.5072 - val_loss: 0.6963 - val_accuracy: 0.4937\n",
      "Epoch 2/10\n",
      "308/308 [==============================] - 312s 1s/step - loss: 0.6933 - accuracy: 0.5117 - val_loss: 0.6932 - val_accuracy: 0.5098\n",
      "Epoch 3/10\n",
      "308/308 [==============================] - 311s 1s/step - loss: 0.6907 - accuracy: 0.5255 - val_loss: 0.6939 - val_accuracy: 0.5072\n",
      "Epoch 4/10\n",
      "308/308 [==============================] - 312s 1s/step - loss: 0.6859 - accuracy: 0.5425 - val_loss: 0.6960 - val_accuracy: 0.5171\n",
      "Epoch 5/10\n",
      "308/308 [==============================] - 313s 1s/step - loss: 0.6801 - accuracy: 0.5574 - val_loss: 0.6993 - val_accuracy: 0.5060\n",
      "Epoch 6/10\n",
      "308/308 [==============================] - 341s 1s/step - loss: 0.6684 - accuracy: 0.5797 - val_loss: 0.7119 - val_accuracy: 0.5136\n",
      "Epoch 7/10\n",
      "308/308 [==============================] - 363s 1s/step - loss: 0.6538 - accuracy: 0.5995 - val_loss: 0.7180 - val_accuracy: 0.5015\n",
      "Epoch 8/10\n",
      "308/308 [==============================] - 330s 1s/step - loss: 0.6343 - accuracy: 0.6186 - val_loss: 0.7369 - val_accuracy: 0.5025\n",
      "Epoch 9/10\n",
      "308/308 [==============================] - 314s 1s/step - loss: 0.6095 - accuracy: 0.6421 - val_loss: 0.7591 - val_accuracy: 0.5058\n",
      "Epoch 10/10\n",
      "308/308 [==============================] - 312s 1s/step - loss: 0.5882 - accuracy: 0.6593 - val_loss: 0.8086 - val_accuracy: 0.5008\n",
      "Epoch 1/10\n",
      "308/308 [==============================] - 319s 1s/step - loss: 0.6964 - accuracy: 0.5087 - val_loss: 0.6927 - val_accuracy: 0.5178\n",
      "Epoch 2/10\n",
      "308/308 [==============================] - 317s 1s/step - loss: 0.6927 - accuracy: 0.5181 - val_loss: 0.6925 - val_accuracy: 0.5211\n",
      "Epoch 3/10\n",
      "308/308 [==============================] - 321s 1s/step - loss: 0.6901 - accuracy: 0.5306 - val_loss: 0.6939 - val_accuracy: 0.5091\n",
      "Epoch 4/10\n",
      "308/308 [==============================] - 366s 1s/step - loss: 0.6863 - accuracy: 0.5421 - val_loss: 0.6957 - val_accuracy: 0.4982\n",
      "Epoch 5/10\n",
      "308/308 [==============================] - 369s 1s/step - loss: 0.6783 - accuracy: 0.5584 - val_loss: 0.7027 - val_accuracy: 0.5119\n",
      "Epoch 6/10\n",
      "308/308 [==============================] - 374s 1s/step - loss: 0.6707 - accuracy: 0.5708 - val_loss: 0.7078 - val_accuracy: 0.5126\n",
      "Epoch 7/10\n",
      "308/308 [==============================] - 349s 1s/step - loss: 0.6556 - accuracy: 0.5955 - val_loss: 0.7244 - val_accuracy: 0.5162\n",
      "Epoch 8/10\n",
      "308/308 [==============================] - 319s 1s/step - loss: 0.6401 - accuracy: 0.6107 - val_loss: 0.7263 - val_accuracy: 0.5176\n",
      "Epoch 9/10\n",
      "308/308 [==============================] - 319s 1s/step - loss: 0.6197 - accuracy: 0.6262 - val_loss: 0.7423 - val_accuracy: 0.5103\n",
      "Epoch 10/10\n",
      "308/308 [==============================] - 317s 1s/step - loss: 0.5925 - accuracy: 0.6543 - val_loss: 0.8037 - val_accuracy: 0.5058\n",
      "Epoch 1/10\n",
      "308/308 [==============================] - 328s 1s/step - loss: 0.6964 - accuracy: 0.5029 - val_loss: 0.6966 - val_accuracy: 0.5086\n",
      "Epoch 2/10\n",
      "308/308 [==============================] - 375s 1s/step - loss: 0.6930 - accuracy: 0.5118 - val_loss: 0.6948 - val_accuracy: 0.4947\n",
      "Epoch 3/10\n",
      "308/308 [==============================] - 379s 1s/step - loss: 0.6907 - accuracy: 0.5298 - val_loss: 0.6944 - val_accuracy: 0.5008\n",
      "Epoch 4/10\n",
      "308/308 [==============================] - 377s 1s/step - loss: 0.6854 - accuracy: 0.5464 - val_loss: 0.6994 - val_accuracy: 0.4989\n",
      "Epoch 5/10\n",
      "308/308 [==============================] - 377s 1s/step - loss: 0.6774 - accuracy: 0.5697 - val_loss: 0.7035 - val_accuracy: 0.4923\n",
      "Epoch 6/10\n",
      "308/308 [==============================] - 375s 1s/step - loss: 0.6654 - accuracy: 0.5830 - val_loss: 0.7172 - val_accuracy: 0.5074\n",
      "Epoch 7/10\n",
      "308/308 [==============================] - 377s 1s/step - loss: 0.6511 - accuracy: 0.6036 - val_loss: 0.7270 - val_accuracy: 0.4987\n",
      "Epoch 8/10\n",
      "308/308 [==============================] - 381s 1s/step - loss: 0.6371 - accuracy: 0.6217 - val_loss: 0.7398 - val_accuracy: 0.4982\n",
      "Epoch 9/10\n",
      "308/308 [==============================] - 376s 1s/step - loss: 0.6183 - accuracy: 0.6351 - val_loss: 0.7697 - val_accuracy: 0.4930\n",
      "Epoch 10/10\n",
      "308/308 [==============================] - 375s 1s/step - loss: 0.5964 - accuracy: 0.6608 - val_loss: 0.7754 - val_accuracy: 0.5022\n",
      "Epoch 1/10\n",
      "308/308 [==============================] - 386s 1s/step - loss: 0.6981 - accuracy: 0.4960 - val_loss: 0.6932 - val_accuracy: 0.5088\n",
      "Epoch 2/10\n",
      "308/308 [==============================] - 384s 1s/step - loss: 0.6932 - accuracy: 0.5155 - val_loss: 0.6978 - val_accuracy: 0.4838\n",
      "Epoch 3/10\n",
      "308/308 [==============================] - 380s 1s/step - loss: 0.6909 - accuracy: 0.5321 - val_loss: 0.6947 - val_accuracy: 0.5129\n",
      "Epoch 4/10\n",
      "308/308 [==============================] - 383s 1s/step - loss: 0.6864 - accuracy: 0.5423 - val_loss: 0.6974 - val_accuracy: 0.5121\n",
      "Epoch 5/10\n",
      "308/308 [==============================] - 380s 1s/step - loss: 0.6778 - accuracy: 0.5593 - val_loss: 0.7076 - val_accuracy: 0.5155\n",
      "Epoch 6/10\n",
      "308/308 [==============================] - 381s 1s/step - loss: 0.6655 - accuracy: 0.5758 - val_loss: 0.7130 - val_accuracy: 0.5004\n",
      "Epoch 7/10\n",
      "308/308 [==============================] - 382s 1s/step - loss: 0.6502 - accuracy: 0.6033 - val_loss: 0.7269 - val_accuracy: 0.5100\n",
      "Epoch 8/10\n",
      "308/308 [==============================] - 381s 1s/step - loss: 0.6291 - accuracy: 0.6252 - val_loss: 0.7580 - val_accuracy: 0.5110\n",
      "Epoch 9/10\n",
      "308/308 [==============================] - 382s 1s/step - loss: 0.6050 - accuracy: 0.6472 - val_loss: 0.7825 - val_accuracy: 0.5107\n",
      "Epoch 10/10\n",
      "308/308 [==============================] - 380s 1s/step - loss: 0.5786 - accuracy: 0.6691 - val_loss: 0.8040 - val_accuracy: 0.5131\n"
     ]
    }
   ],
   "source": [
    "# Best hyperparameters\n",
    "best_hps=tuner.get_best_hyperparameters(num_trials=1)[0]\n",
    "y_pred = pd.DataFrame(columns=y_train.columns)\n",
    "models = {}\n",
    "histories = {}\n",
    "# Train all models according to the best hyperparameters for day n0\n",
    "for day in ['n0', 'n1', 'n2', 'n3']:\n",
    "    model = tuner.hypermodel.build(best_hps)\n",
    "    history = model.fit(X_train, y_train[day], epochs=10, validation_data=(X_val, y_val[day]))\n",
    "    models[day] = model\n",
    "    histories[day] = history\n",
    "    \n",
    "    # Test it\n",
    "    yp = model.predict(X_test)\n",
    "    y_pred[day] = np.where(yp > 0.5, 1, 0).flatten()"
   ]
  },
  {
   "cell_type": "markdown",
   "id": "e9d1019b",
   "metadata": {},
   "source": [
    "## Save models and histories"
   ]
  },
  {
   "cell_type": "code",
   "execution_count": 944,
   "id": "70b0a14f",
   "metadata": {
    "collapsed": true
   },
   "outputs": [
    {
     "name": "stderr",
     "output_type": "stream",
     "text": [
      "2022-01-15 09:18:05.048383: W tensorflow/python/util/util.cc:368] Sets are not currently considered sequences, but this may change in the future, so consider avoiding using them.\n"
     ]
    },
    {
     "name": "stdout",
     "output_type": "stream",
     "text": [
      "INFO:tensorflow:Assets written to: ram://c8a6ab1b-47b1-458d-9b0f-a20f5e9a735b/assets\n"
     ]
    },
    {
     "name": "stderr",
     "output_type": "stream",
     "text": [
      "WARNING:absl:<keras.layers.recurrent.LSTMCell object at 0x18597ca00> has the same name 'LSTMCell' as a built-in Keras object. Consider renaming <class 'keras.layers.recurrent.LSTMCell'> to avoid naming conflicts when loading with `tf.keras.models.load_model`. If renaming is not possible, pass the object in the `custom_objects` parameter of the load function.\n",
      "WARNING:absl:<keras.layers.recurrent.LSTMCell object at 0x1859842b0> has the same name 'LSTMCell' as a built-in Keras object. Consider renaming <class 'keras.layers.recurrent.LSTMCell'> to avoid naming conflicts when loading with `tf.keras.models.load_model`. If renaming is not possible, pass the object in the `custom_objects` parameter of the load function.\n"
     ]
    },
    {
     "name": "stdout",
     "output_type": "stream",
     "text": [
      "INFO:tensorflow:Assets written to: ram://da8dbe17-4e8a-4544-9afb-070768a82554/assets\n"
     ]
    },
    {
     "name": "stderr",
     "output_type": "stream",
     "text": [
      "INFO:tensorflow:Assets written to: ram://da8dbe17-4e8a-4544-9afb-070768a82554/assets\n",
      "WARNING:absl:<keras.layers.recurrent.LSTMCell object at 0x186256e20> has the same name 'LSTMCell' as a built-in Keras object. Consider renaming <class 'keras.layers.recurrent.LSTMCell'> to avoid naming conflicts when loading with `tf.keras.models.load_model`. If renaming is not possible, pass the object in the `custom_objects` parameter of the load function.\n",
      "WARNING:absl:<keras.layers.recurrent.LSTMCell object at 0x186154610> has the same name 'LSTMCell' as a built-in Keras object. Consider renaming <class 'keras.layers.recurrent.LSTMCell'> to avoid naming conflicts when loading with `tf.keras.models.load_model`. If renaming is not possible, pass the object in the `custom_objects` parameter of the load function.\n"
     ]
    },
    {
     "name": "stdout",
     "output_type": "stream",
     "text": [
      "INFO:tensorflow:Assets written to: ram://35dccff1-29cc-4590-ba9a-7f20ef09d677/assets\n"
     ]
    },
    {
     "name": "stderr",
     "output_type": "stream",
     "text": [
      "INFO:tensorflow:Assets written to: ram://35dccff1-29cc-4590-ba9a-7f20ef09d677/assets\n",
      "WARNING:absl:<keras.layers.recurrent.LSTMCell object at 0x187afdeb0> has the same name 'LSTMCell' as a built-in Keras object. Consider renaming <class 'keras.layers.recurrent.LSTMCell'> to avoid naming conflicts when loading with `tf.keras.models.load_model`. If renaming is not possible, pass the object in the `custom_objects` parameter of the load function.\n",
      "WARNING:absl:<keras.layers.recurrent.LSTMCell object at 0x187b05700> has the same name 'LSTMCell' as a built-in Keras object. Consider renaming <class 'keras.layers.recurrent.LSTMCell'> to avoid naming conflicts when loading with `tf.keras.models.load_model`. If renaming is not possible, pass the object in the `custom_objects` parameter of the load function.\n"
     ]
    },
    {
     "name": "stdout",
     "output_type": "stream",
     "text": [
      "INFO:tensorflow:Assets written to: ram://5284b2c8-031d-4a4e-9f46-a92109cba3eb/assets\n"
     ]
    },
    {
     "name": "stderr",
     "output_type": "stream",
     "text": [
      "INFO:tensorflow:Assets written to: ram://5284b2c8-031d-4a4e-9f46-a92109cba3eb/assets\n",
      "WARNING:absl:<keras.layers.recurrent.LSTMCell object at 0x188ec3940> has the same name 'LSTMCell' as a built-in Keras object. Consider renaming <class 'keras.layers.recurrent.LSTMCell'> to avoid naming conflicts when loading with `tf.keras.models.load_model`. If renaming is not possible, pass the object in the `custom_objects` parameter of the load function.\n",
      "WARNING:absl:<keras.layers.recurrent.LSTMCell object at 0x188ec8760> has the same name 'LSTMCell' as a built-in Keras object. Consider renaming <class 'keras.layers.recurrent.LSTMCell'> to avoid naming conflicts when loading with `tf.keras.models.load_model`. If renaming is not possible, pass the object in the `custom_objects` parameter of the load function.\n"
     ]
    },
    {
     "name": "stdout",
     "output_type": "stream",
     "text": [
      "INFO:tensorflow:Assets written to: ram://6ded83a3-22c6-432a-93b1-6f1d4f7ffcab/assets\n"
     ]
    },
    {
     "name": "stderr",
     "output_type": "stream",
     "text": [
      "INFO:tensorflow:Assets written to: ram://6ded83a3-22c6-432a-93b1-6f1d4f7ffcab/assets\n",
      "WARNING:absl:<keras.layers.recurrent.LSTMCell object at 0x18597ca00> has the same name 'LSTMCell' as a built-in Keras object. Consider renaming <class 'keras.layers.recurrent.LSTMCell'> to avoid naming conflicts when loading with `tf.keras.models.load_model`. If renaming is not possible, pass the object in the `custom_objects` parameter of the load function.\n",
      "WARNING:absl:<keras.layers.recurrent.LSTMCell object at 0x1859842b0> has the same name 'LSTMCell' as a built-in Keras object. Consider renaming <class 'keras.layers.recurrent.LSTMCell'> to avoid naming conflicts when loading with `tf.keras.models.load_model`. If renaming is not possible, pass the object in the `custom_objects` parameter of the load function.\n"
     ]
    },
    {
     "name": "stdout",
     "output_type": "stream",
     "text": [
      "INFO:tensorflow:Assets written to: ram://1a17f1ed-e5c9-478b-ae8c-bac9af3020c4/assets\n"
     ]
    },
    {
     "name": "stderr",
     "output_type": "stream",
     "text": [
      "INFO:tensorflow:Assets written to: ram://1a17f1ed-e5c9-478b-ae8c-bac9af3020c4/assets\n",
      "WARNING:absl:<keras.layers.recurrent.LSTMCell object at 0x186256e20> has the same name 'LSTMCell' as a built-in Keras object. Consider renaming <class 'keras.layers.recurrent.LSTMCell'> to avoid naming conflicts when loading with `tf.keras.models.load_model`. If renaming is not possible, pass the object in the `custom_objects` parameter of the load function.\n",
      "WARNING:absl:<keras.layers.recurrent.LSTMCell object at 0x186154610> has the same name 'LSTMCell' as a built-in Keras object. Consider renaming <class 'keras.layers.recurrent.LSTMCell'> to avoid naming conflicts when loading with `tf.keras.models.load_model`. If renaming is not possible, pass the object in the `custom_objects` parameter of the load function.\n"
     ]
    },
    {
     "name": "stdout",
     "output_type": "stream",
     "text": [
      "INFO:tensorflow:Assets written to: ram://0505a11c-9dd4-41d1-a2e6-e9c60d64b12f/assets\n"
     ]
    },
    {
     "name": "stderr",
     "output_type": "stream",
     "text": [
      "INFO:tensorflow:Assets written to: ram://0505a11c-9dd4-41d1-a2e6-e9c60d64b12f/assets\n",
      "WARNING:absl:<keras.layers.recurrent.LSTMCell object at 0x187afdeb0> has the same name 'LSTMCell' as a built-in Keras object. Consider renaming <class 'keras.layers.recurrent.LSTMCell'> to avoid naming conflicts when loading with `tf.keras.models.load_model`. If renaming is not possible, pass the object in the `custom_objects` parameter of the load function.\n",
      "WARNING:absl:<keras.layers.recurrent.LSTMCell object at 0x187b05700> has the same name 'LSTMCell' as a built-in Keras object. Consider renaming <class 'keras.layers.recurrent.LSTMCell'> to avoid naming conflicts when loading with `tf.keras.models.load_model`. If renaming is not possible, pass the object in the `custom_objects` parameter of the load function.\n"
     ]
    },
    {
     "name": "stdout",
     "output_type": "stream",
     "text": [
      "INFO:tensorflow:Assets written to: ram://e60782b1-9eb3-4f0a-99c4-76dd2f5b251e/assets\n"
     ]
    },
    {
     "name": "stderr",
     "output_type": "stream",
     "text": [
      "INFO:tensorflow:Assets written to: ram://e60782b1-9eb3-4f0a-99c4-76dd2f5b251e/assets\n",
      "WARNING:absl:<keras.layers.recurrent.LSTMCell object at 0x188ec3940> has the same name 'LSTMCell' as a built-in Keras object. Consider renaming <class 'keras.layers.recurrent.LSTMCell'> to avoid naming conflicts when loading with `tf.keras.models.load_model`. If renaming is not possible, pass the object in the `custom_objects` parameter of the load function.\n",
      "WARNING:absl:<keras.layers.recurrent.LSTMCell object at 0x188ec8760> has the same name 'LSTMCell' as a built-in Keras object. Consider renaming <class 'keras.layers.recurrent.LSTMCell'> to avoid naming conflicts when loading with `tf.keras.models.load_model`. If renaming is not possible, pass the object in the `custom_objects` parameter of the load function.\n"
     ]
    }
   ],
   "source": [
    "import pickle\n",
    "def save_obj(obj, filename):\n",
    "    with open(\"./models/\" + filename, 'wb') as outp:  # Overwrites any existing file.\n",
    "        pickle.dump(obj, outp, pickle.HIGHEST_PROTOCOL)\n",
    "save_obj(models, \"models.pkl\")\n",
    "save_obj(histories, \"histories.pkl\")"
   ]
  },
  {
   "cell_type": "markdown",
   "id": "f56596e6",
   "metadata": {},
   "source": [
    "## Load saved models and histories"
   ]
  },
  {
   "cell_type": "code",
   "execution_count": 91,
   "id": "2d2bb84d",
   "metadata": {},
   "outputs": [
    {
     "name": "stderr",
     "output_type": "stream",
     "text": [
      "2022-02-20 18:51:23.174871: I tensorflow/core/platform/cpu_feature_guard.cc:151] This TensorFlow binary is optimized with oneAPI Deep Neural Network Library (oneDNN) to use the following CPU instructions in performance-critical operations:  AVX2 FMA\n",
      "To enable them in other operations, rebuild TensorFlow with the appropriate compiler flags.\n"
     ]
    }
   ],
   "source": [
    "models = pickle.load(open(\"./models/models.pkl\", \"rb\" ))\n",
    "histories = pickle.load(open(\"./models/histories.pkl\", \"rb\" ))"
   ]
  },
  {
   "cell_type": "markdown",
   "id": "6bbc4c8b",
   "metadata": {},
   "source": [
    "## Evaluate models"
   ]
  },
  {
   "cell_type": "code",
   "execution_count": 118,
   "id": "8ae5d520",
   "metadata": {},
   "outputs": [
    {
     "name": "stdout",
     "output_type": "stream",
     "text": [
      "Test accuracy score, day n0:\n",
      "              precision    recall  f1-score   support\n",
      "\n",
      "           0       0.53      0.40      0.46      2103\n",
      "           1       0.45      0.58      0.51      1774\n",
      "\n",
      "    accuracy                           0.48      3877\n",
      "   macro avg       0.49      0.49      0.48      3877\n",
      "weighted avg       0.49      0.48      0.48      3877\n",
      "\n",
      "Training accuracy score, day n0:\n",
      "0.7120780805205368\n",
      "\n",
      "Test accuracy score, day n1:\n",
      "              precision    recall  f1-score   support\n",
      "\n",
      "           0       0.55      0.61      0.57      2096\n",
      "           1       0.47      0.41      0.44      1781\n",
      "\n",
      "    accuracy                           0.52      3877\n",
      "   macro avg       0.51      0.51      0.51      3877\n",
      "weighted avg       0.51      0.52      0.51      3877\n",
      "\n",
      "Training accuracy score, day n1:\n",
      "0.703436356242375\n",
      "\n",
      "Test accuracy score, day n2:\n",
      "              precision    recall  f1-score   support\n",
      "\n",
      "           0       0.53      0.44      0.48      2067\n",
      "           1       0.46      0.56      0.51      1810\n",
      "\n",
      "    accuracy                           0.49      3877\n",
      "   macro avg       0.50      0.50      0.49      3877\n",
      "weighted avg       0.50      0.49      0.49      3877\n",
      "\n",
      "Training accuracy score, day n2:\n",
      "0.7062830418869459\n",
      "\n",
      "Test accuracy score, day n3:\n",
      "              precision    recall  f1-score   support\n",
      "\n",
      "           0       0.47      0.36      0.41      1815\n",
      "           1       0.53      0.64      0.58      2062\n",
      "\n",
      "    accuracy                           0.51      3877\n",
      "   macro avg       0.50      0.50      0.50      3877\n",
      "weighted avg       0.50      0.51      0.50      3877\n",
      "\n",
      "Training accuracy score, day n3:\n",
      "0.7190931272875153\n",
      "\n"
     ]
    }
   ],
   "source": [
    "from sklearn.metrics import classification_report\n",
    "for day, model in models.items():\n",
    "    y_pred_test = model.predict(X_test)\n",
    "    y_pred_train = model.predict(X_train)\n",
    "    print(f\"Test accuracy score, day {day}:\")\n",
    "    print(classification_report(y_test[day], np.where(y_pred_test > 0.5, 1, 0)))\n",
    "    print(f\"Training accuracy score, day {day}:\")\n",
    "    print(accuracy_score(y_train[day], np.where(y_pred_train > 0.5, 1, 0)))\n",
    "    print(\"\")"
   ]
  },
  {
   "cell_type": "code",
   "execution_count": 297,
   "id": "fa0e70ab",
   "metadata": {},
   "outputs": [
    {
     "data": {
      "image/png": "[encoded data removed]",
      "text/plain": [
       "<Figure size 432x288 with 1 Axes>"
      ]
     },
     "metadata": {
      "needs_background": "light"
     },
     "output_type": "display_data"
    },
    {
     "data": {
      "image/png": "[encoded data removed]",
      "text/plain": [
       "<Figure size 432x288 with 1 Axes>"
      ]
     },
     "metadata": {
      "needs_background": "light"
     },
     "output_type": "display_data"
    },
    {
     "data": {
      "image/png": "[encoded data removed]",
      "text/plain": [
       "<Figure size 432x288 with 1 Axes>"
      ]
     },
     "metadata": {
      "needs_background": "light"
     },
     "output_type": "display_data"
    },
    {
     "data": {
      "image/png": "[encoded data removed]",
      "text/plain": [
       "<Figure size 432x288 with 1 Axes>"
      ]
     },
     "metadata": {
      "needs_background": "light"
     },
     "output_type": "display_data"
    },
    {
     "data": {
      "image/png": "[encoded data removed]",
      "text/plain": [
       "<Figure size 432x288 with 1 Axes>"
      ]
     },
     "metadata": {
      "needs_background": "light"
     },
     "output_type": "display_data"
    },
    {
     "data": {
      "image/png": "[encoded data removed]",
      "text/plain": [
       "<Figure size 432x288 with 1 Axes>"
      ]
     },
     "metadata": {
      "needs_background": "light"
     },
     "output_type": "display_data"
    },
    {
     "data": {
      "image/png": "[encoded data removed]",
      "text/plain": [
       "<Figure size 432x288 with 1 Axes>"
      ]
     },
     "metadata": {
      "needs_background": "light"
     },
     "output_type": "display_data"
    },
    {
     "data": {
      "image/png": "[encoded data removed]",
      "text/plain": [
       "<Figure size 432x288 with 1 Axes>"
      ]
     },
     "metadata": {
      "needs_background": "light"
     },
     "output_type": "display_data"
    }
   ],
   "source": [
    "import matplotlib.pyplot as plt\n",
    "def plot_graphs(history, metric, title):\n",
    "    plt.figure()\n",
    "    plt.plot(history.history[metric])\n",
    "    plt.plot(history.history['val_'+metric], '')\n",
    "    plt.xlabel(\"Epochs\")\n",
    "    plt.ylabel(metric)\n",
    "    plt.legend([metric, 'val_'+metric])\n",
    "    plt.title(title)\n",
    "    plt.savefig(f\"./figures/{metric}_{title}.png\")\n",
    "\n",
    "for day, history in enumerate(histories.values()):\n",
    "    plot_graphs(history, \"accuracy\", f\"Day {day}\")\n",
    "    plot_graphs(history, \"loss\", f\"Day {day}\")"
   ]
  },
  {
   "cell_type": "markdown",
   "id": "7a0005b3",
   "metadata": {},
   "source": [
    "## Unigram baseline\n",
    "This is an attempt at a baseline using a pipeline of unigram features with a Random Forest Classifier"
   ]
  },
  {
   "cell_type": "code",
   "execution_count": 191,
   "id": "dbf96f27",
   "metadata": {},
   "outputs": [
    {
     "name": "stdout",
     "output_type": "stream",
     "text": [
      "CPU times: user 4.85 ms, sys: 1.28 ms, total: 6.13 ms\n",
      "Wall time: 5.4 ms\n"
     ]
    }
   ],
   "source": [
    "%%time\n",
    "from sklearn.ensemble import RandomForestClassifier\n",
    "from sklearn.feature_extraction.text import CountVectorizer\n",
    "from sklearn.feature_selection import SelectKBest, mutual_info_classif\n",
    "from sklearn.pipeline import Pipeline\n",
    "\n",
    "X = sec8_df['text']\n",
    "y = sec8_df.loc[:, ['target_day1open_day1close_ppc', \n",
    "                'target_day1open_day2close_ppc', \n",
    "                'target_day1open_day3close_ppc', \n",
    "                'target_dayneg1close_day1open_ppc']]\n",
    "y.columns = ['n0', 'n1', 'n2', 'n3']\n",
    "X_train_rf = X.iloc[train_idx]\n",
    "X_val_rf = X.iloc[val_idx]\n",
    "X_test_rf = X.iloc[test_idx]\n",
    "y_train = y.iloc[train_idx]\n",
    "y_val = y.iloc[val_idx]\n",
    "y_test = y.iloc[test_idx]"
   ]
  },
  {
   "cell_type": "code",
   "execution_count": 171,
   "id": "c2b6d48c",
   "metadata": {},
   "outputs": [
    {
     "name": "stdout",
     "output_type": "stream",
     "text": [
      "Test classification score, day n0\n",
      "              precision    recall  f1-score   support\n",
      "\n",
      "           0       0.55      0.85      0.66      2103\n",
      "           1       0.47      0.16      0.24      1774\n",
      "\n",
      "    accuracy                           0.53      3877\n",
      "   macro avg       0.51      0.51      0.45      3877\n",
      "weighted avg       0.51      0.53      0.47      3877\n",
      "\n",
      "0.5344338405984008\n",
      "Training accuracy score, day n0\n",
      "0.654026026840179\n",
      "Test classification score, day n1\n",
      "              precision    recall  f1-score   support\n",
      "\n",
      "           0       0.54      0.90      0.68      2096\n",
      "           1       0.48      0.11      0.18      1781\n",
      "\n",
      "    accuracy                           0.54      3877\n",
      "   macro avg       0.51      0.50      0.43      3877\n",
      "weighted avg       0.51      0.54      0.45      3877\n",
      "\n",
      "0.5362393603301522\n",
      "Training accuracy score, day n1\n",
      "0.6398942659617731\n",
      "Test classification score, day n2\n",
      "              precision    recall  f1-score   support\n",
      "\n",
      "           0       0.54      0.93      0.68      2067\n",
      "           1       0.49      0.08      0.14      1810\n",
      "\n",
      "    accuracy                           0.53      3877\n",
      "   macro avg       0.51      0.50      0.41      3877\n",
      "weighted avg       0.51      0.53      0.43      3877\n",
      "\n",
      "0.5318545266958989\n",
      "Training accuracy score, day n2\n",
      "0.6210858072387149\n",
      "Test classification score, day n3\n",
      "              precision    recall  f1-score   support\n",
      "\n",
      "           0       0.47      0.22      0.30      1815\n",
      "           1       0.53      0.78      0.63      2062\n",
      "\n",
      "    accuracy                           0.52      3877\n",
      "   macro avg       0.50      0.50      0.47      3877\n",
      "weighted avg       0.50      0.52      0.48      3877\n",
      "\n",
      "0.5168945060613876\n",
      "Training accuracy score, day n3\n",
      "0.6697844652297682\n",
      "CPU times: user 2min 36s, sys: 1.63 s, total: 2min 38s\n",
      "Wall time: 2min 38s\n"
     ]
    }
   ],
   "source": [
    "# Create pipeline\n",
    "from sklearn.model_selection import permutation_test_score\n",
    "for day in ['n0', 'n1', 'n2', 'n3']:\n",
    "    pipe = Pipeline([('count', CountVectorizer(stop_words=\"english\")), \n",
    "                     ('feature_selection', SelectKBest(mutual_info_classif, k=2320)), \n",
    "                     ('clf', RandomForestClassifier(max_depth=10))])\n",
    "    pipe.fit(X_train_rf, y_train_rf[day])\n",
    "    y_pred_test = pipe.predict(X_test_rf)\n",
    "    y_pred_train = pipe.predict(X_train_rf)\n",
    "    print(f\"Test classification score, day {day}\")\n",
    "    print(classification_report(y_test[day], np.where(y_pred_test > 0.5, 1, 0)))\n",
    "    print(accuracy_score(y_test[day], np.where(y_pred_test > 0.5, 1, 0)))\n",
    "    print(f\"Training accuracy score, day {day}\")\n",
    "    print(accuracy_score(y_train[day], np.where(y_pred_train > 0.5, 1, 0)))\n",
    "    score = permutation_test_score(pipe, X_test_rf, y_test_rf)"
   ]
  }
 ],
 "metadata": {
  "kernelspec": {
   "display_name": "Python 3 (ipykernel)",
   "language": "python",
   "name": "python3"
  },
  "language_info": {
   "codemirror_mode": {
    "name": "ipython",
    "version": 3
   },
   "file_extension": ".py",
   "mimetype": "text/x-python",
   "name": "python",
   "nbconvert_exporter": "python",
   "pygments_lexer": "ipython3",
   "version": "3.9.1"
  }
 },
 "nbformat": 4,
 "nbformat_minor": 5
}
